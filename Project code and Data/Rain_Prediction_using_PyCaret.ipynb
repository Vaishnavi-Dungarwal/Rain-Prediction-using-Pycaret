{
  "nbformat": 4,
  "nbformat_minor": 5,
  "metadata": {
    "kernelspec": {
      "display_name": "Python 3",
      "language": "python",
      "name": "python3"
    },
    "language_info": {
      "codemirror_mode": {
        "name": "ipython",
        "version": 3
      },
      "file_extension": ".py",
      "mimetype": "text/x-python",
      "name": "python",
      "nbconvert_exporter": "python",
      "pygments_lexer": "ipython3",
      "version": "3.8.8"
    },
    "colab": {
      "provenance": []
    }
  },
  "cells": [
    {
      "cell_type": "code",
      "metadata": {
        "id": "7ec16aef"
      },
      "source": [
        "import pandas as pd\n",
        "import numpy as np\n",
        "import seaborn as sns\n",
        "import matplotlib.pyplot as plt\n",
        "from sklearn.model_selection import train_test_split\n",
        "from sklearn.metrics import accuracy_score,confusion_matrix,classification_report\n",
        "from sklearn import metrics\n",
        "%matplotlib inline"
      ],
      "id": "7ec16aef",
      "execution_count": null,
      "outputs": []
    },
    {
      "cell_type": "code",
      "metadata": {
        "id": "zlwhoQ9UOamT"
      },
      "source": [
        "from google.colab import drive\n",
        "drive.mount('/content/drive')"
      ],
      "id": "zlwhoQ9UOamT",
      "execution_count": null,
      "outputs": []
    },
    {
      "cell_type": "code",
      "metadata": {
        "id": "25098d74"
      },
      "source": [
        "df=  pd.read_csv(\"/content/drive/MyDrive/weatherAUS.csv\")\n",
        "pd.set_option(\"display.max_columns\", None)"
      ],
      "id": "25098d74",
      "execution_count": null,
      "outputs": []
    },
    {
      "cell_type": "code",
      "metadata": {
        "id": "f2074f71"
      },
      "source": [
        "df"
      ],
      "id": "f2074f71",
      "execution_count": null,
      "outputs": []
    },
    {
      "cell_type": "code",
      "metadata": {
        "id": "89cbbcff"
      },
      "source": [
        "df.nunique()"
      ],
      "id": "89cbbcff",
      "execution_count": null,
      "outputs": []
    },
    {
      "cell_type": "code",
      "metadata": {
        "id": "28f0d764"
      },
      "source": [
        "num_var = [feature for feature in df.columns if df[feature].dtypes != 'O']\n",
        "discrete_var = [feature for feature in num_var if len(df[feature].unique()) <= 25]\n",
        "cont_var = [feature for feature in num_var if feature not in discrete_var]\n",
        "categ_var = [feature for feature in df.columns if feature not in num_var]"
      ],
      "id": "28f0d764",
      "execution_count": null,
      "outputs": []
    },
    {
      "cell_type": "code",
      "metadata": {
        "scrolled": true,
        "id": "a07e3d87"
      },
      "source": [
        "df[categ_var]"
      ],
      "id": "a07e3d87",
      "execution_count": null,
      "outputs": []
    },
    {
      "cell_type": "code",
      "metadata": {
        "id": "a7df800f"
      },
      "source": [
        "df.isnull().sum()"
      ],
      "id": "a7df800f",
      "execution_count": null,
      "outputs": []
    },
    {
      "cell_type": "code",
      "metadata": {
        "id": "46d1e8b4"
      },
      "source": [
        "df.isnull().sum()*100/len(df)"
      ],
      "id": "46d1e8b4",
      "execution_count": null,
      "outputs": []
    },
    {
      "cell_type": "code",
      "metadata": {
        "id": "041b5998"
      },
      "source": [
        "def find_var_type(var):\n",
        "\n",
        "\n",
        "    if var in discrete_var:\n",
        "        print(\"{} is a Numerical Variable, Discrete in nature\".format(var))\n",
        "    elif var in cont_var :\n",
        "        print(\"{} is a Numerical Variable, Continuous in nature\".format(var))\n",
        "    else :\n",
        "        print(\"{} is a Categorical Variable\".format(var))"
      ],
      "id": "041b5998",
      "execution_count": null,
      "outputs": []
    },
    {
      "cell_type": "code",
      "metadata": {
        "id": "1ca7eeb4"
      },
      "source": [
        "find_var_type('Cloud3pm')"
      ],
      "id": "1ca7eeb4",
      "execution_count": null,
      "outputs": []
    },
    {
      "cell_type": "code",
      "metadata": {
        "id": "d70cfab2"
      },
      "source": [
        "def RandomSampleImputation(df, feature):\n",
        "    df[feature]=df[feature]\n",
        "    random_sample=df[feature].dropna().sample(df[feature].isnull().sum(),random_state=0)\n",
        "    random_sample.index=df[df[feature].isnull()].index\n",
        "    df.loc[df[feature].isnull(),feature]=random_sample"
      ],
      "id": "d70cfab2",
      "execution_count": null,
      "outputs": []
    },
    {
      "cell_type": "code",
      "metadata": {
        "id": "a4093e84"
      },
      "source": [
        "RandomSampleImputation(df, \"Cloud9am\")\n",
        "RandomSampleImputation(df, \"Cloud3pm\")\n",
        "RandomSampleImputation(df, \"Evaporation\")\n",
        "RandomSampleImputation(df, \"Sunshine\")"
      ],
      "id": "a4093e84",
      "execution_count": null,
      "outputs": []
    },
    {
      "cell_type": "code",
      "metadata": {
        "id": "72dccd05"
      },
      "source": [
        "df.isnull().sum()*100/len(df)"
      ],
      "id": "72dccd05",
      "execution_count": null,
      "outputs": []
    },
    {
      "cell_type": "code",
      "metadata": {
        "id": "71c42f77"
      },
      "source": [
        "find_var_type('RainToday')"
      ],
      "id": "71c42f77",
      "execution_count": null,
      "outputs": []
    },
    {
      "cell_type": "code",
      "metadata": {
        "id": "3f677b58"
      },
      "source": [
        "def MeanImputation(df, feature):\n",
        "    df[feature]= df[feature]\n",
        "    mean= df[feature].mean()\n",
        "    df[feature]= df[feature].fillna(mean)"
      ],
      "id": "3f677b58",
      "execution_count": null,
      "outputs": []
    },
    {
      "cell_type": "code",
      "metadata": {
        "id": "16aaffe4"
      },
      "source": [
        "MeanImputation(df,'Pressure3pm')"
      ],
      "id": "16aaffe4",
      "execution_count": null,
      "outputs": []
    },
    {
      "cell_type": "code",
      "metadata": {
        "id": "dc2dca22"
      },
      "source": [
        "MeanImputation(df, 'Pressure9am')\n",
        "MeanImputation(df, 'MinTemp')\n",
        "MeanImputation(df, 'MaxTemp')\n",
        "MeanImputation(df, 'Rainfall')\n",
        "MeanImputation(df, 'WindGustSpeed')\n",
        "MeanImputation(df, 'WindSpeed9am')\n",
        "MeanImputation(df, 'WindSpeed3pm')\n",
        "MeanImputation(df, 'Pressure9am')\n",
        "MeanImputation(df, 'Humidity9am')\n",
        "MeanImputation(df, 'Humidity3pm')\n",
        "MeanImputation(df, 'Temp3pm')\n",
        "MeanImputation(df, 'Temp9am')"
      ],
      "id": "dc2dca22",
      "execution_count": null,
      "outputs": []
    },
    {
      "cell_type": "code",
      "metadata": {
        "id": "9c757e2e"
      },
      "source": [
        "df.isnull().sum()*100/len(df)"
      ],
      "id": "9c757e2e",
      "execution_count": null,
      "outputs": []
    },
    {
      "cell_type": "markdown",
      "metadata": {
        "id": "c16646fe"
      },
      "source": [
        "### Now we are left with the categotical varibales only, for these variables we will replace null values later in the Label Encoding part."
      ],
      "id": "c16646fe"
    },
    {
      "cell_type": "code",
      "metadata": {
        "id": "95460464"
      },
      "source": [
        "corrmat = df.corr(method = \"spearman\")\n",
        "plt.figure(figsize=(20,20))\n",
        "#plot heat map\n",
        "g=sns.heatmap(corrmat,annot=True)"
      ],
      "id": "95460464",
      "execution_count": null,
      "outputs": []
    },
    {
      "cell_type": "code",
      "metadata": {
        "id": "cf46a061"
      },
      "source": [
        "for feature in cont_var:\n",
        "    data=df.copy()\n",
        "    sns.distplot(df[feature])\n",
        "    plt.xlabel(feature)\n",
        "    plt.ylabel(\"Count\")\n",
        "    plt.title(feature)\n",
        "    plt.figure(figsize=(15,15))\n",
        "    plt.show()"
      ],
      "id": "cf46a061",
      "execution_count": null,
      "outputs": []
    },
    {
      "cell_type": "code",
      "metadata": {
        "id": "b9abccc4"
      },
      "source": [
        "for feature in cont_var:\n",
        "    data=df.copy()\n",
        "    sns.boxplot(data[feature])\n",
        "    plt.title(feature)\n",
        "    plt.figure(figsize=(15,15))"
      ],
      "id": "b9abccc4",
      "execution_count": null,
      "outputs": []
    },
    {
      "cell_type": "code",
      "metadata": {
        "id": "f8b1526f"
      },
      "source": [
        "df[\"RainToday\"] = pd.get_dummies(df[\"RainToday\"], drop_first = True)\n",
        "df[\"RainTomorrow\"] = pd.get_dummies(df[\"RainTomorrow\"], drop_first = True)\n",
        "df"
      ],
      "id": "f8b1526f",
      "execution_count": null,
      "outputs": []
    },
    {
      "cell_type": "markdown",
      "metadata": {
        "id": "2fe0f2b3"
      },
      "source": [
        "### Lable Encoding"
      ],
      "id": "2fe0f2b3"
    },
    {
      "cell_type": "code",
      "metadata": {
        "id": "4b679a9b"
      },
      "source": [
        "for feature in categ_var:\n",
        "    print(feature, (df.groupby([feature])[\"RainTomorrow\"].mean().sort_values(ascending = False)).index)"
      ],
      "id": "4b679a9b",
      "execution_count": null,
      "outputs": []
    },
    {
      "cell_type": "code",
      "metadata": {
        "id": "7b71b412"
      },
      "source": [
        "windgustdir = {'NNW':0, 'NW':1, 'WNW':2, 'N':3, 'W':4, 'WSW':5, 'NNE':6, 'S':7, 'SSW':8, 'SW':9, 'SSE':10,\n",
        "       'NE':11, 'SE':12, 'ESE':13, 'ENE':14, 'E':15}\n",
        "winddir9am = {'NNW':0, 'N':1, 'NW':2, 'NNE':3, 'WNW':4, 'W':5, 'WSW':6, 'SW':7, 'SSW':8, 'NE':9, 'S':10,\n",
        "       'SSE':11, 'ENE':12, 'SE':13, 'ESE':14, 'E':15}\n",
        "winddir3pm = {'NW':0, 'NNW':1, 'N':2, 'WNW':3, 'W':4, 'NNE':5, 'WSW':6, 'SSW':7, 'S':8, 'SW':9, 'SE':10,\n",
        "       'NE':11, 'SSE':12, 'ENE':13, 'E':14, 'ESE':15}\n",
        "df[\"WindGustDir\"] = df[\"WindGustDir\"].map(windgustdir)\n",
        "df[\"WindDir9am\"] = df[\"WindDir9am\"].map(winddir9am)\n",
        "df[\"WindDir3pm\"] = df[\"WindDir3pm\"].map(winddir3pm)"
      ],
      "id": "7b71b412",
      "execution_count": null,
      "outputs": []
    },
    {
      "cell_type": "code",
      "metadata": {
        "id": "ca957336"
      },
      "source": [
        "df[\"WindGustDir\"] = df[\"WindGustDir\"].fillna(df[\"WindGustDir\"].value_counts().index[0])\n",
        "df[\"WindDir9am\"] = df[\"WindDir9am\"].fillna(df[\"WindDir9am\"].value_counts().index[0])\n",
        "df[\"WindDir3pm\"] = df[\"WindDir3pm\"].fillna(df[\"WindDir3pm\"].value_counts().index[0])"
      ],
      "id": "ca957336",
      "execution_count": null,
      "outputs": []
    },
    {
      "cell_type": "code",
      "metadata": {
        "id": "74983d93"
      },
      "source": [
        "df.isnull().sum()*100/len(df)"
      ],
      "id": "74983d93",
      "execution_count": null,
      "outputs": []
    },
    {
      "cell_type": "code",
      "metadata": {
        "id": "fca205a4"
      },
      "source": [
        "df.head()"
      ],
      "id": "fca205a4",
      "execution_count": null,
      "outputs": []
    },
    {
      "cell_type": "code",
      "metadata": {
        "id": "f840d8ed"
      },
      "source": [
        "df_loc = df.groupby([\"Location\"])[\"RainTomorrow\"].value_counts().sort_values().unstack()"
      ],
      "id": "f840d8ed",
      "execution_count": null,
      "outputs": []
    },
    {
      "cell_type": "code",
      "metadata": {
        "id": "38965480"
      },
      "source": [
        "df_loc.head()"
      ],
      "id": "38965480",
      "execution_count": null,
      "outputs": []
    },
    {
      "cell_type": "code",
      "metadata": {
        "id": "0594ce80"
      },
      "source": [
        "df_loc[1].sort_values(ascending = False)"
      ],
      "id": "0594ce80",
      "execution_count": null,
      "outputs": []
    },
    {
      "cell_type": "code",
      "metadata": {
        "id": "1d0f6c64"
      },
      "source": [
        "df_loc[1].sort_values(ascending = False).index"
      ],
      "id": "1d0f6c64",
      "execution_count": null,
      "outputs": []
    },
    {
      "cell_type": "code",
      "metadata": {
        "id": "9435702f"
      },
      "source": [
        "len(df_loc[1].sort_values(ascending = False).index)"
      ],
      "id": "9435702f",
      "execution_count": null,
      "outputs": []
    },
    {
      "cell_type": "code",
      "metadata": {
        "id": "c5c2ddd4"
      },
      "source": [
        "mapped_location = {'Portland':1, 'Cairns':2, 'Walpole':3, 'Dartmoor':4, 'MountGambier':5,\n",
        "       'NorfolkIsland':6, 'Albany':7, 'Witchcliffe':8, 'CoffsHarbour':9, 'Sydney':10,\n",
        "       'Darwin':11, 'MountGinini':12, 'NorahHead':13, 'Ballarat':14, 'GoldCoast':15,\n",
        "       'SydneyAirport':16, 'Hobart':17, 'Watsonia':18, 'Newcastle':19, 'Wollongong':20,\n",
        "       'Brisbane':21, 'Williamtown':22, 'Launceston':23, 'Adelaide':24, 'MelbourneAirport':25,\n",
        "       'Perth':26, 'Sale':27, 'Melbourne':28, 'Canberra':29, 'Albury':30, 'Penrith':31,\n",
        "       'Nuriootpa':32, 'BadgerysCreek':33, 'Tuggeranong':34, 'PerthAirport':35, 'Bendigo':36,\n",
        "       'Richmond':37, 'WaggaWagga':38, 'Townsville':39, 'PearceRAAF':40, 'SalmonGums':41,\n",
        "       'Moree':42, 'Cobar':43, 'Mildura':44, 'Katherine':45, 'AliceSprings':46, 'Nhil':47,\n",
        "       'Woomera':48, 'Uluru':49}\n",
        "df[\"Location\"] = df[\"Location\"].map(mapped_location)"
      ],
      "id": "c5c2ddd4",
      "execution_count": null,
      "outputs": []
    },
    {
      "cell_type": "code",
      "metadata": {
        "id": "3c25945b"
      },
      "source": [
        "df[\"Date\"] = pd.to_datetime(df[\"Date\"], format = \"%Y-%m-%dT\", errors = \"coerce\")\n",
        "df[\"Date_month\"] = df[\"Date\"].dt.month\n",
        "df[\"Date_day\"] = df[\"Date\"].dt.day"
      ],
      "id": "3c25945b",
      "execution_count": null,
      "outputs": []
    },
    {
      "cell_type": "code",
      "metadata": {
        "id": "21bb926c"
      },
      "source": [
        "df.head()"
      ],
      "id": "21bb926c",
      "execution_count": null,
      "outputs": []
    },
    {
      "cell_type": "code",
      "metadata": {
        "id": "48ba8c68"
      },
      "source": [
        "sns.countplot(df[\"RainTomorrow\"])"
      ],
      "id": "48ba8c68",
      "execution_count": null,
      "outputs": []
    },
    {
      "cell_type": "code",
      "metadata": {
        "id": "7d3529b0"
      },
      "source": [
        "df= df.drop(['Date'],axis=1)"
      ],
      "id": "7d3529b0",
      "execution_count": null,
      "outputs": []
    },
    {
      "cell_type": "code",
      "metadata": {
        "id": "d4f49859"
      },
      "source": [
        "df.head()"
      ],
      "id": "d4f49859",
      "execution_count": null,
      "outputs": []
    },
    {
      "cell_type": "code",
      "metadata": {
        "id": "2c2a5bf3"
      },
      "source": [
        "import scipy.stats as stats\n",
        "import pylab"
      ],
      "id": "2c2a5bf3",
      "execution_count": null,
      "outputs": []
    },
    {
      "cell_type": "code",
      "metadata": {
        "id": "1067812e"
      },
      "source": [
        "def plot_curve(df,feature):\n",
        "    plt.figure(figsize=(10,6))\n",
        "    plt.subplot(1,2,1)\n",
        "    df[feature].hist()\n",
        "    plt.subplot(1,2,2)\n",
        "    stats.probplot(df[feature],dist='norm',plot=pylab)\n",
        "    plt.title(feature)\n",
        "    plt.show()"
      ],
      "id": "1067812e",
      "execution_count": null,
      "outputs": []
    },
    {
      "cell_type": "code",
      "metadata": {
        "id": "952b2354"
      },
      "source": [
        "for i in cont_var:\n",
        "    plot_curve(df, i)"
      ],
      "id": "952b2354",
      "execution_count": null,
      "outputs": []
    },
    {
      "cell_type": "code",
      "metadata": {
        "id": "76f7d27e"
      },
      "source": [
        "x = df.drop([\"RainTomorrow\"], axis=1)\n",
        "y = df[\"RainTomorrow\"]"
      ],
      "id": "76f7d27e",
      "execution_count": null,
      "outputs": []
    },
    {
      "cell_type": "code",
      "metadata": {
        "id": "78e425c6"
      },
      "source": [
        "from sklearn.preprocessing import StandardScaler"
      ],
      "id": "78e425c6",
      "execution_count": null,
      "outputs": []
    },
    {
      "cell_type": "code",
      "metadata": {
        "id": "ae7f28a0"
      },
      "source": [
        "scale=StandardScaler()"
      ],
      "id": "ae7f28a0",
      "execution_count": null,
      "outputs": []
    },
    {
      "cell_type": "code",
      "metadata": {
        "id": "8e6b3e73"
      },
      "source": [
        "scale.fit(x)"
      ],
      "id": "8e6b3e73",
      "execution_count": null,
      "outputs": []
    },
    {
      "cell_type": "code",
      "metadata": {
        "id": "014c8bf8"
      },
      "source": [
        "X= scale.transform(x)"
      ],
      "id": "014c8bf8",
      "execution_count": null,
      "outputs": []
    },
    {
      "cell_type": "code",
      "metadata": {
        "id": "ac338c2a"
      },
      "source": [
        "x.columns"
      ],
      "id": "ac338c2a",
      "execution_count": null,
      "outputs": []
    },
    {
      "cell_type": "code",
      "metadata": {
        "id": "f839a500"
      },
      "source": [
        "X=pd.DataFrame(X,columns=x.columns)"
      ],
      "id": "f839a500",
      "execution_count": null,
      "outputs": []
    },
    {
      "cell_type": "code",
      "metadata": {
        "id": "c8c584d1"
      },
      "source": [
        "X.head()"
      ],
      "id": "c8c584d1",
      "execution_count": null,
      "outputs": []
    },
    {
      "cell_type": "code",
      "metadata": {
        "id": "d33862b6"
      },
      "source": [
        "y.head()"
      ],
      "id": "d33862b6",
      "execution_count": null,
      "outputs": []
    },
    {
      "cell_type": "code",
      "metadata": {
        "id": "bf83c63f"
      },
      "source": [
        "X_train, X_test, y_train, y_test = train_test_split(x,y, test_size =0.2, random_state = 0)"
      ],
      "id": "bf83c63f",
      "execution_count": null,
      "outputs": []
    },
    {
      "cell_type": "code",
      "metadata": {
        "id": "040e7e25"
      },
      "source": [
        "from sklearn.ensemble import RandomForestClassifier"
      ],
      "id": "040e7e25",
      "execution_count": null,
      "outputs": []
    },
    {
      "cell_type": "code",
      "metadata": {
        "id": "8cd418d3"
      },
      "source": [
        "ranfor= RandomForestClassifier()"
      ],
      "id": "8cd418d3",
      "execution_count": null,
      "outputs": []
    },
    {
      "cell_type": "code",
      "metadata": {
        "id": "c630dab5"
      },
      "source": [
        "ranfor.fit(X_train,y_train)"
      ],
      "id": "c630dab5",
      "execution_count": null,
      "outputs": []
    },
    {
      "cell_type": "code",
      "metadata": {
        "id": "c784a7d2"
      },
      "source": [
        "ypred= ranfor.predict(X_test)"
      ],
      "id": "c784a7d2",
      "execution_count": null,
      "outputs": []
    },
    {
      "cell_type": "code",
      "metadata": {
        "id": "57b90da4"
      },
      "source": [
        "print(confusion_matrix(y_test,ypred))\n",
        "print(accuracy_score(y_test,ypred))\n",
        "print(classification_report(y_test,ypred))"
      ],
      "id": "57b90da4",
      "execution_count": null,
      "outputs": []
    },
    {
      "cell_type": "code",
      "metadata": {
        "id": "7d09e2e1"
      },
      "source": [
        "metrics.plot_roc_curve(ranfor, X_test, y_test)\n",
        "metrics.roc_auc_score(y_test, ypred, average=None)"
      ],
      "id": "7d09e2e1",
      "execution_count": null,
      "outputs": []
    },
    {
      "cell_type": "code",
      "metadata": {
        "id": "6820719d"
      },
      "source": [
        "from sklearn.naive_bayes import GaussianNB"
      ],
      "id": "6820719d",
      "execution_count": null,
      "outputs": []
    },
    {
      "cell_type": "code",
      "metadata": {
        "id": "f4ce1f1a"
      },
      "source": [
        "gnb= GaussianNB()"
      ],
      "id": "f4ce1f1a",
      "execution_count": null,
      "outputs": []
    },
    {
      "cell_type": "code",
      "metadata": {
        "id": "e780dda7"
      },
      "source": [
        "gnb.fit(X_train,y_train)"
      ],
      "id": "e780dda7",
      "execution_count": null,
      "outputs": []
    },
    {
      "cell_type": "code",
      "metadata": {
        "id": "e8f81054"
      },
      "source": [
        "ypred2= gnb.predict(X_test)"
      ],
      "id": "e8f81054",
      "execution_count": null,
      "outputs": []
    },
    {
      "cell_type": "code",
      "metadata": {
        "id": "788984af"
      },
      "source": [
        "print(confusion_matrix(y_test,ypred2))\n",
        "print(accuracy_score(y_test,ypred2))\n",
        "print(classification_report(y_test,ypred2))"
      ],
      "id": "788984af",
      "execution_count": null,
      "outputs": []
    },
    {
      "cell_type": "code",
      "metadata": {
        "id": "a61296ab"
      },
      "source": [
        "metrics.plot_roc_curve(gnb, X_test, y_test)\n",
        "metrics.roc_auc_score(y_test, ypred2, average=None)"
      ],
      "id": "a61296ab",
      "execution_count": null,
      "outputs": []
    },
    {
      "cell_type": "code",
      "metadata": {
        "id": "16e3d7d1"
      },
      "source": [
        "from sklearn.neighbors import KNeighborsClassifier"
      ],
      "id": "16e3d7d1",
      "execution_count": null,
      "outputs": []
    },
    {
      "cell_type": "code",
      "metadata": {
        "id": "acf2cf17"
      },
      "source": [
        "knn = KNeighborsClassifier(n_neighbors=3)"
      ],
      "id": "acf2cf17",
      "execution_count": null,
      "outputs": []
    },
    {
      "cell_type": "code",
      "metadata": {
        "id": "413edb72"
      },
      "source": [
        "knn.fit(X_train,y_train)"
      ],
      "id": "413edb72",
      "execution_count": null,
      "outputs": []
    },
    {
      "cell_type": "code",
      "metadata": {
        "id": "2b3d7248"
      },
      "source": [
        "ypred3= knn.predict(X_test)"
      ],
      "id": "2b3d7248",
      "execution_count": null,
      "outputs": []
    },
    {
      "cell_type": "code",
      "metadata": {
        "id": "b8a08ff1"
      },
      "source": [
        "print(confusion_matrix(y_test,ypred3))\n",
        "print(accuracy_score(y_test,ypred3))\n",
        "print(classification_report(y_test,ypred3))"
      ],
      "id": "b8a08ff1",
      "execution_count": null,
      "outputs": []
    },
    {
      "cell_type": "code",
      "metadata": {
        "id": "4ae75b98"
      },
      "source": [
        "metrics.plot_roc_curve(knn, X_test, y_test)\n",
        "metrics.roc_auc_score(y_test, ypred3, average=None)"
      ],
      "id": "4ae75b98",
      "execution_count": null,
      "outputs": []
    },
    {
      "cell_type": "code",
      "metadata": {
        "id": "c9b3f1e9"
      },
      "source": [
        "from xgboost import XGBClassifier"
      ],
      "id": "c9b3f1e9",
      "execution_count": null,
      "outputs": []
    },
    {
      "cell_type": "code",
      "metadata": {
        "id": "4320f2d7"
      },
      "source": [
        "xgb= XGBClassifier()"
      ],
      "id": "4320f2d7",
      "execution_count": null,
      "outputs": []
    },
    {
      "cell_type": "code",
      "metadata": {
        "id": "ffbffe7d"
      },
      "source": [
        "xgb.fit(X_train,y_train)"
      ],
      "id": "ffbffe7d",
      "execution_count": null,
      "outputs": []
    },
    {
      "cell_type": "code",
      "metadata": {
        "id": "83dd11fe"
      },
      "source": [
        "ypred4= xgb.predict(X_test)"
      ],
      "id": "83dd11fe",
      "execution_count": null,
      "outputs": []
    },
    {
      "cell_type": "code",
      "metadata": {
        "scrolled": true,
        "id": "8abe4823"
      },
      "source": [
        "print(confusion_matrix(y_test,ypred4))\n",
        "print(accuracy_score(y_test,ypred4))\n",
        "print(classification_report(y_test,ypred4))"
      ],
      "id": "8abe4823",
      "execution_count": null,
      "outputs": []
    },
    {
      "cell_type": "code",
      "metadata": {
        "id": "869e6f6c"
      },
      "source": [
        "metrics.plot_roc_curve(xgb, X_test, y_test)\n",
        "metrics.roc_auc_score(y_test, ypred4, average=None)"
      ],
      "id": "869e6f6c",
      "execution_count": null,
      "outputs": []
    },
    {
      "cell_type": "code",
      "metadata": {
        "id": "0c8eaec6"
      },
      "source": [
        "import pickle"
      ],
      "id": "0c8eaec6",
      "execution_count": null,
      "outputs": []
    },
    {
      "cell_type": "code",
      "metadata": {
        "id": "b8620a5f"
      },
      "source": [
        "file = open('rain_XGBnew_model.pkl', 'wb')"
      ],
      "id": "b8620a5f",
      "execution_count": null,
      "outputs": []
    },
    {
      "cell_type": "code",
      "metadata": {
        "id": "61ccdc0e"
      },
      "source": [
        "pickle.dump(xgb, file)"
      ],
      "id": "61ccdc0e",
      "execution_count": null,
      "outputs": []
    },
    {
      "cell_type": "code",
      "metadata": {
        "id": "f1b55775"
      },
      "source": [
        "model = pickle.load(open(\"rain_XGBnew_model.pkl\", \"rb\"))"
      ],
      "id": "f1b55775",
      "execution_count": null,
      "outputs": []
    },
    {
      "cell_type": "code",
      "metadata": {
        "id": "4fb03568"
      },
      "source": [
        "!pip install pycaret"
      ],
      "id": "4fb03568",
      "execution_count": null,
      "outputs": []
    },
    {
      "cell_type": "code",
      "metadata": {
        "id": "ACfKukN4Nn6p"
      },
      "source": [
        "from pycaret.classification import *"
      ],
      "id": "ACfKukN4Nn6p",
      "execution_count": null,
      "outputs": []
    },
    {
      "cell_type": "code",
      "metadata": {
        "id": "2Z6o43mZO7N4"
      },
      "source": [
        "model= setup(data= df, target= 'RainTomorrow')"
      ],
      "id": "2Z6o43mZO7N4",
      "execution_count": null,
      "outputs": []
    },
    {
      "cell_type": "code",
      "metadata": {
        "id": "mh9_Y2avPFd7"
      },
      "source": [
        "compare_models()"
      ],
      "id": "mh9_Y2avPFd7",
      "execution_count": null,
      "outputs": []
    },
    {
      "cell_type": "code",
      "metadata": {
        "id": "7T441_6lPQES"
      },
      "source": [
        "lightgbm= create_model('lightgbm')"
      ],
      "id": "7T441_6lPQES",
      "execution_count": null,
      "outputs": []
    },
    {
      "cell_type": "code",
      "metadata": {
        "id": "wrjPrN58U5wV"
      },
      "source": [
        "pred_holdout = predict_model(lightgbm,data= X_test)"
      ],
      "id": "wrjPrN58U5wV",
      "execution_count": null,
      "outputs": []
    },
    {
      "cell_type": "code",
      "metadata": {
        "id": "DT6MI6mDXeli"
      },
      "source": [
        "pred_holdout"
      ],
      "id": "DT6MI6mDXeli",
      "execution_count": null,
      "outputs": []
    }
  ]
}